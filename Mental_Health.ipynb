{
 "cells": [
  {
   "cell_type": "code",
   "execution_count": 18,
   "id": "04528665-42ae-4005-9f0d-481a885800eb",
   "metadata": {},
   "outputs": [],
   "source": [
    "import pandas as pd\n",
    "import matplotlib.pyplot as plt\n",
    "import seaborn as sns"
   ]
  },
  {
   "cell_type": "code",
   "execution_count": 19,
   "id": "dfa8b66e-f860-4fe4-8035-bc2fa8e261c0",
   "metadata": {},
   "outputs": [],
   "source": [
    "df = pd.read_csv(\"C:/Users/jsimo/OneDrive/Desktop/Datasets/mental_health.csv\")"
   ]
  },
  {
   "cell_type": "code",
   "execution_count": 20,
   "id": "2a9774f2-d5b6-4cbb-a55b-d731449d1b8b",
   "metadata": {},
   "outputs": [
    {
     "name": "stdout",
     "output_type": "stream",
     "text": [
      "              Timestamp  Gender        Country Occupation self_employed  \\\n",
      "0       8/27/2014 11:29  Female  United States  Corporate           NaN   \n",
      "1       8/27/2014 11:31  Female  United States  Corporate           NaN   \n",
      "2       8/27/2014 11:32  Female  United States  Corporate           NaN   \n",
      "3       8/27/2014 11:37  Female  United States  Corporate            No   \n",
      "4       8/27/2014 11:43  Female  United States  Corporate            No   \n",
      "...                 ...     ...            ...        ...           ...   \n",
      "292359  7/27/2015 23:25    Male  United States   Business           Yes   \n",
      "292360   8/17/2015 9:38    Male   South Africa   Business            No   \n",
      "292361  8/25/2015 19:59    Male  United States   Business            No   \n",
      "292362   9/26/2015 1:07    Male  United States   Business            No   \n",
      "292363   2/1/2016 23:04    Male  United States   Business            No   \n",
      "\n",
      "       family_history treatment Days_Indoors Growing_Stress Changes_Habits  \\\n",
      "0                  No       Yes    1-14 days            Yes             No   \n",
      "1                 Yes       Yes    1-14 days            Yes             No   \n",
      "2                 Yes       Yes    1-14 days            Yes             No   \n",
      "3                 Yes       Yes    1-14 days            Yes             No   \n",
      "4                 Yes       Yes    1-14 days            Yes             No   \n",
      "...               ...       ...          ...            ...            ...   \n",
      "292359            Yes       Yes   15-30 days             No          Maybe   \n",
      "292360            Yes       Yes   15-30 days             No          Maybe   \n",
      "292361            Yes        No   15-30 days             No          Maybe   \n",
      "292362            Yes       Yes   15-30 days             No          Maybe   \n",
      "292363            Yes       Yes   15-30 days             No          Maybe   \n",
      "\n",
      "       Mental_Health_History Mood_Swings Coping_Struggles Work_Interest  \\\n",
      "0                        Yes      Medium               No            No   \n",
      "1                        Yes      Medium               No            No   \n",
      "2                        Yes      Medium               No            No   \n",
      "3                        Yes      Medium               No            No   \n",
      "4                        Yes      Medium               No            No   \n",
      "...                      ...         ...              ...           ...   \n",
      "292359                    No         Low              Yes            No   \n",
      "292360                    No         Low              Yes            No   \n",
      "292361                    No         Low              Yes            No   \n",
      "292362                    No         Low              Yes            No   \n",
      "292363                    No         Low              Yes            No   \n",
      "\n",
      "       Social_Weakness mental_health_interview care_options  \n",
      "0                  Yes                      No     Not sure  \n",
      "1                  Yes                      No           No  \n",
      "2                  Yes                      No          Yes  \n",
      "3                  Yes                   Maybe          Yes  \n",
      "4                  Yes                      No          Yes  \n",
      "...                ...                     ...          ...  \n",
      "292359           Maybe                   Maybe     Not sure  \n",
      "292360           Maybe                      No          Yes  \n",
      "292361           Maybe                      No           No  \n",
      "292362           Maybe                      No          Yes  \n",
      "292363           Maybe                      No          Yes  \n",
      "\n",
      "[292364 rows x 17 columns]\n"
     ]
    }
   ],
   "source": [
    "print(df)"
   ]
  },
  {
   "cell_type": "code",
   "execution_count": 21,
   "id": "ae8317ee-aed6-4340-b457-c1e2430ca4a9",
   "metadata": {},
   "outputs": [
    {
     "data": {
      "text/plain": [
       "Index(['Timestamp', 'Gender', 'Country', 'Occupation', 'self_employed',\n",
       "       'family_history', 'treatment', 'Days_Indoors', 'Growing_Stress',\n",
       "       'Changes_Habits', 'Mental_Health_History', 'Mood_Swings',\n",
       "       'Coping_Struggles', 'Work_Interest', 'Social_Weakness',\n",
       "       'mental_health_interview', 'care_options'],\n",
       "      dtype='object')"
      ]
     },
     "execution_count": 21,
     "metadata": {},
     "output_type": "execute_result"
    }
   ],
   "source": [
    "df.columns"
   ]
  },
  {
   "cell_type": "code",
   "execution_count": 33,
   "id": "c14e9ec7-25fb-439a-b985-3e751bb4c296",
   "metadata": {},
   "outputs": [],
   "source": [
    "us_df = df[df[\"Country\"] == \"United States\"]"
   ]
  },
  {
   "cell_type": "code",
   "execution_count": 34,
   "id": "9f0d23f5-32d4-4844-9a0b-ee6a2988e6e6",
   "metadata": {},
   "outputs": [],
   "source": [
    "us_df = us_df.rename(columns={\"self_employed\":\"Self Employed\",\"treatment\":\"Treatment\",\"mental_health_interview\":\"Mental Health Interview\",\"family_history\":\"Family History\",\"Days_Indoors\":\"Days Indoors\",\"Growing_Stress\":\"Growing Stress\",\"Changes_Habits\":\"Change in Habits\",\"Mental_Health_History\":\"History of Mental Health\",\"Mood_Swings\":\"Mood Swings\",\"Coping_Struggles\":\"Coping Struggles\",\"Work_Interest\":\"Interest in Work\",\"Social_Weakness\":\"Social Weakness\",\"care_options\":\"Care Options\"})"
   ]
  },
  {
   "cell_type": "code",
   "execution_count": 35,
   "id": "106f7c60-b874-4c81-a36d-84df55003bab",
   "metadata": {},
   "outputs": [],
   "source": [
    "us_df = us_df.drop('Timestamp',axis=1)"
   ]
  },
  {
   "cell_type": "code",
   "execution_count": 36,
   "id": "641c011e-4649-4dd3-aab4-649f025ca800",
   "metadata": {},
   "outputs": [],
   "source": [
    "us_df = us_df.dropna()"
   ]
  },
  {
   "cell_type": "code",
   "execution_count": 42,
   "id": "2e6efd20-6ac9-4ddf-81f7-e870c81327f1",
   "metadata": {},
   "outputs": [
    {
     "data": {
      "text/plain": [
       "Gender\n",
       "Male      133770\n",
       "Female     34286\n",
       "Name: count, dtype: int64"
      ]
     },
     "execution_count": 42,
     "metadata": {},
     "output_type": "execute_result"
    }
   ],
   "source": [
    "us_df[\"Gender\"].value_counts()"
   ]
  },
  {
   "cell_type": "code",
   "execution_count": 37,
   "id": "4dd59854-61b8-4b02-a894-ef1d0c33c9c2",
   "metadata": {},
   "outputs": [
    {
     "data": {
      "text/plain": [
       "Gender  Mood Swings  History of Mental Health\n",
       "Female  High         Maybe                        4503\n",
       "        Low          Maybe                        4345\n",
       "                     No                           3950\n",
       "        Medium       No                           3871\n",
       "                     Yes                          3871\n",
       "                     Maybe                        3634\n",
       "        High         Yes                          3555\n",
       "                     No                           3476\n",
       "        Low          Yes                          3081\n",
       "Male    Low          Maybe                       17150\n",
       "        Medium       No                          17150\n",
       "                     Yes                         17150\n",
       "        Low          No                          16121\n",
       "        High         No                          15092\n",
       "                     Maybe                       13034\n",
       "                     Yes                         13034\n",
       "        Low          Yes                         12691\n",
       "        Medium       Maybe                       12348\n",
       "Name: count, dtype: int64"
      ]
     },
     "execution_count": 37,
     "metadata": {},
     "output_type": "execute_result"
    }
   ],
   "source": [
    "us_df.groupby(\"Gender\")[[\"Mood Swings\",\"History of Mental Health\"]].value_counts()"
   ]
  },
  {
   "cell_type": "code",
   "execution_count": 39,
   "id": "e3cd0fd4-e690-4d56-8087-7fabfd4a31fd",
   "metadata": {},
   "outputs": [
    {
     "data": {
      "text/plain": [
       "Text(0.5, 1.0, 'History of Mental Health by Gender')"
      ]
     },
     "execution_count": 39,
     "metadata": {},
     "output_type": "execute_result"
    },
    {
     "data": {
      "image/png": "[encoded data removed]",
      "text/plain": [
       "<Figure size 640x480 with 1 Axes>"
      ]
     },
     "metadata": {},
     "output_type": "display_data"
    }
   ],
   "source": [
    "ax = sns.countplot(x=\"History of Mental Health\",hue=\"Gender\",data=us_df)\n",
    "ax.set_title('History of Mental Health by Gender')"
   ]
  },
  {
   "cell_type": "code",
   "execution_count": 43,
   "id": "667aa73b-83f1-451f-97ab-2e2c1073e981",
   "metadata": {},
   "outputs": [
    {
     "data": {
      "text/plain": [
       "Text(0.5, 1.0, 'Mood Swings by Gender')"
      ]
     },
     "execution_count": 43,
     "metadata": {},
     "output_type": "execute_result"
    },
    {
     "data": {
      "image/png": "[encoded data removed]",
      "text/plain": [
       "<Figure size 640x480 with 1 Axes>"
      ]
     },
     "metadata": {},
     "output_type": "display_data"
    }
   ],
   "source": [
    "ax2 = sns.countplot(x=\"Mood Swings\",hue=\"Gender\",data=us_df)\n",
    "ax2.set_title('Mood Swings by Gender')"
   ]
  },
  {
   "cell_type": "code",
   "execution_count": null,
   "id": "084245ff-48e2-4c1f-bf5c-d785e4d98944",
   "metadata": {},
   "outputs": [],
   "source": []
  }
 ],
 "metadata": {
  "kernelspec": {
   "display_name": "Python 3 (ipykernel)",
   "language": "python",
   "name": "python3"
  },
  "language_info": {
   "codemirror_mode": {
    "name": "ipython",
    "version": 3
   },
   "file_extension": ".py",
   "mimetype": "text/x-python",
   "name": "python",
   "nbconvert_exporter": "python",
   "pygments_lexer": "ipython3",
   "version": "3.13.3"
  }
 },
 "nbformat": 4,
 "nbformat_minor": 5
}
